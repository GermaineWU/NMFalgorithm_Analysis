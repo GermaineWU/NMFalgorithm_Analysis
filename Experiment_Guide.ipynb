{
 "cells": [
  {
   "cell_type": "markdown",
   "metadata": {},
   "source": [
    "# Instruction"
   ]
  },
  {
   "cell_type": "markdown",
   "metadata": {},
   "source": [
    "This notebook is a guide for running experiment. \n",
    "Please follow the steps below:\n",
    "1. Add dataset to 'data/'.\n",
    "   \n",
    "2. In the Experiment Materials Cell, choose one dataset 'YaleB' or 'ORL', and choose the additive type of noise, including 'Guassian', 'Laplace' and 'Block'.\n",
    "\n",
    "3. Configure the experiment parameters which can affect experiment results. \n",
    "\n",
    "4. Run all cells.\n",
    "\n",
    "Note\n",
    "* Images created will be save to 'images/DATASET/K_S_/Algorithm_Noise.png'\n",
    "\n",
    "* Metrices collected will be recorded to 'metrics/DATASET/K_S_/result.csv'\n",
    "\n",
    "* Please make sure numpy, matplotlib, PIL, sklearn, pandas, csv packages are installed before running the program"
   ]
  },
  {
   "cell_type": "markdown",
   "metadata": {},
   "source": [
    "# Experiment Materials"
   ]
  },
  {
   "cell_type": "code",
   "execution_count": 1,
   "metadata": {},
   "outputs": [],
   "source": [
    "# Dataset Name: 'YaleB', 'ORL'\n",
    "dataset='YaleB'\n",
    "\n",
    "# Noise Type: 'Guassian', 'Laplace', 'Block'\n",
    "noise = 'Block'\n",
    "\n",
    "# Fitting Algorithms: 'L2NMF', 'L1NMF', 'L1reNMF'\n",
    "algorithm = 'L1reNMF'"
   ]
  },
  {
   "cell_type": "markdown",
   "metadata": {},
   "source": [
    "## Parameters"
   ]
  },
  {
   "cell_type": "code",
   "execution_count": 2,
   "metadata": {},
   "outputs": [],
   "source": [
    "# reduce the size of image\n",
    "reduce_factor = 5\n",
    "\n",
    "# the number of component in W and H \n",
    "n_component = 40\n",
    "\n",
    "# the number of round of experiment\n",
    "n_round = 2\n",
    "\n",
    "# the percentage of the entire dataset\n",
    "random_size = 0.1\n",
    "\n",
    "# max training iteration \n",
    "max_iter = 500\n",
    "\n",
    "# print log period \n",
    "print_iter = 100\n",
    "\n",
    "# path to be saved at\n",
    "path_name = dataset + '/' + 'K'+str(n_component)+'_S'+str(random_size)\n"
   ]
  },
  {
   "cell_type": "markdown",
   "metadata": {},
   "source": [
    "## Experiment"
   ]
  },
  {
   "cell_type": "code",
   "execution_count": 3,
   "metadata": {},
   "outputs": [],
   "source": [
    "from steps import *"
   ]
  },
  {
   "cell_type": "code",
   "execution_count": 4,
   "metadata": {},
   "outputs": [
    {
     "name": "stdout",
     "output_type": "stream",
     "text": [
      "\n",
      "------ Loading YaleB dataset ------\n",
      ">>Dataset loaded, X_ds: (1254, 2414), y_ds: (2414,), img_size: (33, 38)\n",
      "\n",
      "------ Sampling 10.0% images randomly ------\n",
      ">>X: (1254, 241), y: (241,)\n",
      "\n",
      "------ Adding Block noise to dataset ------\n",
      ">>Block noise added\n",
      "\n",
      "------ Fitting L1reNMF algorithm ------\n",
      "    iter = 100, error = 0.2094745069768387\n",
      "    iter = 200, error = 0.19709871189420325\n",
      "    iter = 300, error = 0.19369437824864952\n",
      "    iter = 400, error = 0.19194367417472927\n",
      "    iter = 500, error = 0.1907927680816107\n"
     ]
    },
    {
     "data": {
      "image/png": "[encoded data removed]",
      "text/plain": [
       "<Figure size 288x144 with 1 Axes>"
      ]
     },
     "metadata": {
      "needs_background": "light"
     },
     "output_type": "display_data"
    },
    {
     "name": "stdout",
     "output_type": "stream",
     "text": [
      "\n",
      "------ Plotting result using L1reNMF ------\n"
     ]
    },
    {
     "data": {
      "image/png": "[encoded data removed]",
      "text/plain": [
       "<Figure size 864x216 with 4 Axes>"
      ]
     },
     "metadata": {
      "needs_background": "light"
     },
     "output_type": "display_data"
    },
    {
     "name": "stdout",
     "output_type": "stream",
     "text": [
      "\n",
      "------ Exporting images as BlockYaleB.png ------\n",
      ">>Directory created as Images/YaleB/K40_S0.1\n",
      ">>Images saved to Images/YaleB/K40_S0.1/\n",
      "\n",
      "------ Evaluating performance using L1reNMF ------\n",
      ">>RRE: 0.20087326326154306, ACC:0.3983402489626556, NMI:0.5842163705482689\n",
      "\n",
      "------ Saving metrics as BlockYaleB.csv ------\n",
      ">>Directory created as metrics/YaleB/K40_S0.1\n"
     ]
    },
    {
     "name": "stderr",
     "output_type": "stream",
     "text": [
      "/anaconda2/envs/python3/lib/python3.7/site-packages/sklearn/metrics/cluster/supervised.py:844: FutureWarning: The behavior of NMI will change in version 0.22. To match the behavior of 'v_measure_score', NMI will use average_method='arithmetic' by default.\n",
      "  FutureWarning)\n"
     ]
    }
   ],
   "source": [
    "print('\\n------ Loading {} dataset ------'.format(dataset))\n",
    "X_ds, y_ds, img_size = Load_dataset(dataset, reduce_factor)\n",
    "\n",
    "print('\\n------ Sampling {}% images randomly ------'.format(random_size*100))\n",
    "X, y = Random_samples(X_ds, y_ds, random_size)\n",
    "\n",
    "print('\\n------ Adding {} noise to dataset ------'.format(noise))\n",
    "X_noisy = Add_noise(X, noise, img_size)\n",
    "\n",
    "print('\\n------ Fitting {} algorithm ------'.format(algorithm))\n",
    "W, H, time, E = Fit_nmf_model(X_noisy, algorithm, n_component, \n",
    "                              iters=max_iter, print_iter=print_iter)\n",
    "\n",
    "print('\\n------ Plotting result using {} ------'.format(algorithm))\n",
    "X_re = Reconstruct_images(W, H, E)\n",
    "Visualize_results(X, X_noisy, X_re, img_size)\n",
    "\n",
    "print('\\n------ Exporting images as {}.png ------'.format(noise+dataset))\n",
    "file_name = algorithm + '_' + noise\n",
    "Save_images(X, X_noisy, X_re, img_size, file_name, path_name)\n",
    "\n",
    "print('\\n------ Evaluating performance using {} ------'.format(algorithm))\n",
    "rre, acc, nmi = Evaluate_performance(X, X_re, y, H)\n",
    "\n",
    "print('\\n------ Saving metrics as {}.csv ------'.format(noise+dataset)) \n",
    "metrics = [algorithm, noise, rre, acc, nmi, time, max_iter]\n",
    "Save_metrics(metrics, file_name=noise, path_name=path_name)\n"
   ]
  },
  {
   "cell_type": "code",
   "execution_count": 5,
   "metadata": {},
   "outputs": [
    {
     "data": {
      "text/plain": [
       "['L1reNMF',\n",
       " 'Block',\n",
       " 0.20087326326154306,\n",
       " 0.3983402489626556,\n",
       " 0.5842163705482689,\n",
       " 114.89604902267456,\n",
       " 500]"
      ]
     },
     "execution_count": 5,
     "metadata": {},
     "output_type": "execute_result"
    }
   ],
   "source": [
    "# metrics = [algorithm, noise, rre, acc, nmi, time, max_iter]\n",
    "metrics"
   ]
  },
  {
   "cell_type": "code",
   "execution_count": null,
   "metadata": {},
   "outputs": [],
   "source": []
  }
 ],
 "metadata": {
  "kernelspec": {
   "display_name": "Python 3",
   "language": "python",
   "name": "python3"
  },
  "language_info": {
   "codemirror_mode": {
    "name": "ipython",
    "version": 3
   },
   "file_extension": ".py",
   "mimetype": "text/x-python",
   "name": "python",
   "nbconvert_exporter": "python",
   "pygments_lexer": "ipython3",
   "version": "3.7.3"
  }
 },
 "nbformat": 4,
 "nbformat_minor": 2
}
